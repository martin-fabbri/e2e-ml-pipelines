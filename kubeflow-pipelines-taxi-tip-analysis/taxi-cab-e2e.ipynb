{
 "cells": [
  {
   "cell_type": "code",
   "execution_count": null,
   "metadata": {},
   "outputs": [],
   "source": [
    "# %cd ~/data\n",
    "# !git clone -b kubecon-workshop https://github.com/kubeflow-kale/examples"
   ]
  },
  {
   "cell_type": "code",
   "execution_count": 1,
   "metadata": {},
   "outputs": [
    {
     "name": "stdout",
     "output_type": "stream",
     "text": [
      "Cloning into 'pipelines'...\n",
      "remote: Enumerating objects: 10, done.\u001b[K\n",
      "remote: Counting objects: 100% (10/10), done.\u001b[K\n",
      "remote: Compressing objects: 100% (10/10), done.\u001b[K\n",
      "remote: Total 32306 (delta 2), reused 4 (delta 0), pack-reused 32296\u001b[K\n",
      "Receiving objects: 100% (32306/32306), 24.44 MiB | 20.23 MiB/s, done.\n",
      "Resolving deltas: 100% (19249/19249), done.\n",
      "Note: checking out 'a16f3806374034b8f9898fe33c60eba46c5ae282'.\n",
      "\n",
      "You are in 'detached HEAD' state. You can look around, make experimental\n",
      "changes and commit them, and you can discard any commits you make in this\n",
      "state without impacting any branches by performing another checkout.\n",
      "\n",
      "If you want to create a new branch to retain commits you create, you may\n",
      "do so (now or later) by using -b with the checkout command again. Example:\n",
      "\n",
      "  git checkout -b <new-branch-name>\n",
      "\n",
      "'pipelines/samples/tfx/taxi-cab-classification' -> '/home/jovyan/data/taxi-cab-classification'\n",
      "'pipelines/samples/tfx/taxi-cab-classification/column-names.json' -> '/home/jovyan/data/taxi-cab-classification/column-names.json'\n",
      "'pipelines/samples/tfx/taxi-cab-classification/eval.csv' -> '/home/jovyan/data/taxi-cab-classification/eval.csv'\n",
      "'pipelines/samples/tfx/taxi-cab-classification/preprocessing.py' -> '/home/jovyan/data/taxi-cab-classification/preprocessing.py'\n",
      "'pipelines/samples/tfx/taxi-cab-classification/schema.json' -> '/home/jovyan/data/taxi-cab-classification/schema.json'\n",
      "'pipelines/samples/tfx/taxi-cab-classification/train.csv' -> '/home/jovyan/data/taxi-cab-classification/train.csv'\n"
     ]
    }
   ],
   "source": [
    "!git clone -b 0.1.25 https://github.com/kubeflow/pipelines\n",
    "!cp -av pipelines/samples/tfx/taxi-cab-classification ~/data/"
   ]
  },
  {
   "cell_type": "code",
   "execution_count": null,
   "metadata": {},
   "outputs": [],
   "source": [
    "%cd ~\n",
    "!wget https://raw.githubusercontent.com/arrikto/kubeflow-examples/kubecon-demo/taxi-cab-on-prem/tfx-chicago-taxi-pipeline-on-prem-arr.py"
   ]
  },
  {
   "cell_type": "markdown",
   "metadata": {},
   "source": [
    "## Compile the pipeline"
   ]
  },
  {
   "cell_type": "code",
   "execution_count": 3,
   "metadata": {},
   "outputs": [
    {
     "name": "stdout",
     "output_type": "stream",
     "text": [
      "/usr/local/lib/python3.6/dist-packages/kfp/components/_data_passing.py:133: UserWarning: Missing type name was inferred as \"Float\" based on the value \"0.1\".\n",
      "  warnings.warn('Missing type name was inferred as \"{}\" based on the value \"{}\".'.format(type_name, str(value)))\n",
      "/usr/local/lib/python3.6/dist-packages/kfp/components/_data_passing.py:133: UserWarning: Missing type name was inferred as \"Integer\" based on the value \"1500\".\n",
      "  warnings.warn('Missing type name was inferred as \"{}\" based on the value \"{}\".'.format(type_name, str(value)))\n",
      "/usr/local/lib/python3.6/dist-packages/kfp/components/_data_passing.py:133: UserWarning: Missing type name was inferred as \"Integer\" based on the value \"3000\".\n",
      "  warnings.warn('Missing type name was inferred as \"{}\" based on the value \"{}\".'.format(type_name, str(value)))\n"
     ]
    }
   ],
   "source": [
    "!dsl-compile --py tfx-chicago-taxi-pipeline-on-prem-arr.py --output tfx-chicago-taxi-pipeline-on-prem-arr.tar.gz"
   ]
  },
  {
   "cell_type": "markdown",
   "metadata": {},
   "source": [
    "## Snapshot the Data Volume"
   ]
  },
  {
   "cell_type": "code",
   "execution_count": 4,
   "metadata": {},
   "outputs": [],
   "source": [
    "import tensorflow as tf"
   ]
  },
  {
   "cell_type": "code",
   "execution_count": null,
   "metadata": {},
   "outputs": [],
   "source": [
    "# TODO: attempt to capture a data volume via API"
   ]
  }
 ],
 "metadata": {
  "kernelspec": {
   "display_name": "Python 3",
   "language": "python",
   "name": "python3"
  },
  "kubeflow_notebook": {
   "docker_image": "gcr.io/arrikto-public/tensorflow-1.14.0-notebook-cpu:kubecon-workshop",
   "experiment": {
    "id": "",
    "name": ""
   },
   "experiment_name": "",
   "pipeline_description": "",
   "pipeline_name": "",
   "volumes": [
    {
     "annotations": [],
     "mount_point": "/home/jovyan",
     "name": "workspace-taxicab01-n6xl6r192",
     "size": 5,
     "size_type": "Gi",
     "snapshot": false,
     "type": "clone"
    },
    {
     "annotations": [],
     "mount_point": "/home/jovyan/data",
     "name": "data-d47aie8fv",
     "size": 5,
     "size_type": "Gi",
     "snapshot": false,
     "type": "clone"
    }
   ]
  },
  "language_info": {
   "codemirror_mode": {
    "name": "ipython",
    "version": 3
   },
   "file_extension": ".py",
   "mimetype": "text/x-python",
   "name": "python",
   "nbconvert_exporter": "python",
   "pygments_lexer": "ipython3",
   "version": "3.6.8"
  }
 },
 "nbformat": 4,
 "nbformat_minor": 4
}
